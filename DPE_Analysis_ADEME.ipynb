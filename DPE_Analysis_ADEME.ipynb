{
 "cells": [
  {
   "cell_type": "code",
   "execution_count": 1,
   "metadata": {},
   "outputs": [],
   "source": [
    "# see: https://www.kaggle.com/kanncaa1/statistical-learning-tutorial-for-beginners"
   ]
  },
  {
   "cell_type": "code",
   "execution_count": 2,
   "metadata": {},
   "outputs": [],
   "source": [
    "import pandas as pd\n",
    "import numpy as np\n",
    "import seaborn as sns\n",
    "import matplotlib.pyplot as plt\n",
    "#from pandas.tools import plotting\n",
    "from scipy import stats\n",
    "plt.style.use(\"ggplot\")\n",
    "import warnings\n",
    "warnings.filterwarnings(\"ignore\")\n",
    "from scipy import stats"
   ]
  },
  {
   "cell_type": "code",
   "execution_count": 3,
   "metadata": {},
   "outputs": [
    {
     "data": {
      "text/html": [
       "<div>\n",
       "<style scoped>\n",
       "    .dataframe tbody tr th:only-of-type {\n",
       "        vertical-align: middle;\n",
       "    }\n",
       "\n",
       "    .dataframe tbody tr th {\n",
       "        vertical-align: top;\n",
       "    }\n",
       "\n",
       "    .dataframe thead th {\n",
       "        text-align: right;\n",
       "    }\n",
       "</style>\n",
       "<table border=\"1\" class=\"dataframe\">\n",
       "  <thead>\n",
       "    <tr style=\"text-align: right;\">\n",
       "      <th></th>\n",
       "      <th>nom_methode_dpe</th>\n",
       "      <th>version_methode_dpe</th>\n",
       "      <th>date_etablissement_dpe</th>\n",
       "      <th>consommation_energie</th>\n",
       "      <th>classe_consommation_energie</th>\n",
       "      <th>estimation_ges</th>\n",
       "      <th>classe_estimation_ges</th>\n",
       "      <th>annee_construction</th>\n",
       "      <th>surface_thermique_lot</th>\n",
       "      <th>latitude</th>\n",
       "      <th>longitude</th>\n",
       "      <th>result_label</th>\n",
       "      <th>result_score</th>\n",
       "      <th>tr001_modele_dpe_type_libelle</th>\n",
       "      <th>tr002_type_batiment_description</th>\n",
       "    </tr>\n",
       "  </thead>\n",
       "  <tbody>\n",
       "    <tr>\n",
       "      <th>0</th>\n",
       "      <td>3CL</td>\n",
       "      <td>3CL-DPE, version 1.3</td>\n",
       "      <td>2013-04-12</td>\n",
       "      <td>132.0</td>\n",
       "      <td>C</td>\n",
       "      <td>29.0</td>\n",
       "      <td>D</td>\n",
       "      <td>5200</td>\n",
       "      <td>190.0</td>\n",
       "      <td>46.134409</td>\n",
       "      <td>5.553940</td>\n",
       "      <td>3 Impasse du Tilleul 01430 Saint-Martin-du-Frêne</td>\n",
       "      <td>0.94</td>\n",
       "      <td>Vente</td>\n",
       "      <td>Maison Individuelle</td>\n",
       "    </tr>\n",
       "    <tr>\n",
       "      <th>1</th>\n",
       "      <td>Méthode Facture</td>\n",
       "      <td>NaN</td>\n",
       "      <td>2013-04-20</td>\n",
       "      <td>0.0</td>\n",
       "      <td>N</td>\n",
       "      <td>0.0</td>\n",
       "      <td>N</td>\n",
       "      <td>1947</td>\n",
       "      <td>42.0</td>\n",
       "      <td>43.320718</td>\n",
       "      <td>6.287329</td>\n",
       "      <td>7 Rue de la Treille 83590 Gonfaron</td>\n",
       "      <td>0.95</td>\n",
       "      <td>Vente</td>\n",
       "      <td>Maison Individuelle</td>\n",
       "    </tr>\n",
       "    <tr>\n",
       "      <th>2</th>\n",
       "      <td>Méthode 3CL</td>\n",
       "      <td>3CL-DPE, version 1.3</td>\n",
       "      <td>2013-04-16</td>\n",
       "      <td>326.0</td>\n",
       "      <td>E</td>\n",
       "      <td>18.0</td>\n",
       "      <td>C</td>\n",
       "      <td>2006</td>\n",
       "      <td>107.0</td>\n",
       "      <td>46.661391</td>\n",
       "      <td>2.686369</td>\n",
       "      <td>7 Route du Bois Jaubin 03360 Saint-Bonnet-Tron...</td>\n",
       "      <td>0.68</td>\n",
       "      <td>Vente</td>\n",
       "      <td>Maison Individuelle</td>\n",
       "    </tr>\n",
       "  </tbody>\n",
       "</table>\n",
       "</div>"
      ],
      "text/plain": [
       "   nom_methode_dpe   version_methode_dpe date_etablissement_dpe  \\\n",
       "0              3CL  3CL-DPE, version 1.3             2013-04-12   \n",
       "1  Méthode Facture                   NaN             2013-04-20   \n",
       "2      Méthode 3CL  3CL-DPE, version 1.3             2013-04-16   \n",
       "\n",
       "   consommation_energie classe_consommation_energie  estimation_ges  \\\n",
       "0                 132.0                           C            29.0   \n",
       "1                   0.0                           N             0.0   \n",
       "2                 326.0                           E            18.0   \n",
       "\n",
       "  classe_estimation_ges  annee_construction  surface_thermique_lot   latitude  \\\n",
       "0                     D                5200                  190.0  46.134409   \n",
       "1                     N                1947                   42.0  43.320718   \n",
       "2                     C                2006                  107.0  46.661391   \n",
       "\n",
       "   longitude                                       result_label  result_score  \\\n",
       "0   5.553940   3 Impasse du Tilleul 01430 Saint-Martin-du-Frêne          0.94   \n",
       "1   6.287329                 7 Rue de la Treille 83590 Gonfaron          0.95   \n",
       "2   2.686369  7 Route du Bois Jaubin 03360 Saint-Bonnet-Tron...          0.68   \n",
       "\n",
       "  tr001_modele_dpe_type_libelle tr002_type_batiment_description  \n",
       "0                         Vente             Maison Individuelle  \n",
       "1                         Vente             Maison Individuelle  \n",
       "2                         Vente             Maison Individuelle  "
      ]
     },
     "execution_count": 3,
     "metadata": {},
     "output_type": "execute_result"
    }
   ],
   "source": [
    "df = pd.read_csv('dpe-france.csv')\n",
    "df.head(3)"
   ]
  },
  {
   "cell_type": "code",
   "execution_count": 4,
   "metadata": {},
   "outputs": [
    {
     "data": {
      "text/plain": [
       "(10000, 15)"
      ]
     },
     "execution_count": 4,
     "metadata": {},
     "output_type": "execute_result"
    }
   ],
   "source": [
    "df.shape"
   ]
  },
  {
   "cell_type": "code",
   "execution_count": 5,
   "metadata": {},
   "outputs": [
    {
     "data": {
      "text/plain": [
       "nom_methode_dpe                     object\n",
       "version_methode_dpe                 object\n",
       "date_etablissement_dpe              object\n",
       "consommation_energie               float64\n",
       "classe_consommation_energie         object\n",
       "estimation_ges                     float64\n",
       "classe_estimation_ges               object\n",
       "annee_construction                   int64\n",
       "surface_thermique_lot              float64\n",
       "latitude                           float64\n",
       "longitude                          float64\n",
       "result_label                        object\n",
       "result_score                       float64\n",
       "tr001_modele_dpe_type_libelle       object\n",
       "tr002_type_batiment_description     object\n",
       "dtype: object"
      ]
     },
     "execution_count": 5,
     "metadata": {},
     "output_type": "execute_result"
    }
   ],
   "source": [
    "df.dtypes"
   ]
  },
  {
   "cell_type": "code",
   "execution_count": 6,
   "metadata": {},
   "outputs": [],
   "source": [
    "s = (df.dtypes =='object')\n",
    "object_cols = list(s[s].index)"
   ]
  },
  {
   "cell_type": "code",
   "execution_count": 7,
   "metadata": {},
   "outputs": [
    {
     "data": {
      "text/plain": [
       "['nom_methode_dpe',\n",
       " 'version_methode_dpe',\n",
       " 'date_etablissement_dpe',\n",
       " 'classe_consommation_energie',\n",
       " 'classe_estimation_ges',\n",
       " 'result_label',\n",
       " 'tr001_modele_dpe_type_libelle',\n",
       " 'tr002_type_batiment_description']"
      ]
     },
     "execution_count": 7,
     "metadata": {},
     "output_type": "execute_result"
    }
   ],
   "source": [
    "object_cols"
   ]
  },
  {
   "cell_type": "code",
   "execution_count": 8,
   "metadata": {},
   "outputs": [],
   "source": [
    "df_num = df.drop(object_cols, axis = 1)"
   ]
  },
  {
   "cell_type": "code",
   "execution_count": 9,
   "metadata": {},
   "outputs": [
    {
     "data": {
      "text/html": [
       "<div>\n",
       "<style scoped>\n",
       "    .dataframe tbody tr th:only-of-type {\n",
       "        vertical-align: middle;\n",
       "    }\n",
       "\n",
       "    .dataframe tbody tr th {\n",
       "        vertical-align: top;\n",
       "    }\n",
       "\n",
       "    .dataframe thead th {\n",
       "        text-align: right;\n",
       "    }\n",
       "</style>\n",
       "<table border=\"1\" class=\"dataframe\">\n",
       "  <thead>\n",
       "    <tr style=\"text-align: right;\">\n",
       "      <th></th>\n",
       "      <th>consommation_energie</th>\n",
       "      <th>estimation_ges</th>\n",
       "      <th>annee_construction</th>\n",
       "      <th>surface_thermique_lot</th>\n",
       "      <th>latitude</th>\n",
       "      <th>longitude</th>\n",
       "      <th>result_score</th>\n",
       "    </tr>\n",
       "  </thead>\n",
       "  <tbody>\n",
       "    <tr>\n",
       "      <th>0</th>\n",
       "      <td>132.0</td>\n",
       "      <td>29.0</td>\n",
       "      <td>5200</td>\n",
       "      <td>190.0</td>\n",
       "      <td>46.134409</td>\n",
       "      <td>5.553940</td>\n",
       "      <td>0.94</td>\n",
       "    </tr>\n",
       "    <tr>\n",
       "      <th>1</th>\n",
       "      <td>0.0</td>\n",
       "      <td>0.0</td>\n",
       "      <td>1947</td>\n",
       "      <td>42.0</td>\n",
       "      <td>43.320718</td>\n",
       "      <td>6.287329</td>\n",
       "      <td>0.95</td>\n",
       "    </tr>\n",
       "    <tr>\n",
       "      <th>2</th>\n",
       "      <td>326.0</td>\n",
       "      <td>18.0</td>\n",
       "      <td>2006</td>\n",
       "      <td>107.0</td>\n",
       "      <td>46.661391</td>\n",
       "      <td>2.686369</td>\n",
       "      <td>0.68</td>\n",
       "    </tr>\n",
       "    <tr>\n",
       "      <th>3</th>\n",
       "      <td>326.0</td>\n",
       "      <td>14.0</td>\n",
       "      <td>1948</td>\n",
       "      <td>90.0</td>\n",
       "      <td>43.950393</td>\n",
       "      <td>6.811277</td>\n",
       "      <td>0.94</td>\n",
       "    </tr>\n",
       "    <tr>\n",
       "      <th>4</th>\n",
       "      <td>221.0</td>\n",
       "      <td>3.0</td>\n",
       "      <td>2006</td>\n",
       "      <td>78.2</td>\n",
       "      <td>44.801994</td>\n",
       "      <td>6.583455</td>\n",
       "      <td>0.64</td>\n",
       "    </tr>\n",
       "  </tbody>\n",
       "</table>\n",
       "</div>"
      ],
      "text/plain": [
       "   consommation_energie  estimation_ges  annee_construction  \\\n",
       "0                 132.0            29.0                5200   \n",
       "1                   0.0             0.0                1947   \n",
       "2                 326.0            18.0                2006   \n",
       "3                 326.0            14.0                1948   \n",
       "4                 221.0             3.0                2006   \n",
       "\n",
       "   surface_thermique_lot   latitude  longitude  result_score  \n",
       "0                  190.0  46.134409   5.553940          0.94  \n",
       "1                   42.0  43.320718   6.287329          0.95  \n",
       "2                  107.0  46.661391   2.686369          0.68  \n",
       "3                   90.0  43.950393   6.811277          0.94  \n",
       "4                   78.2  44.801994   6.583455          0.64  "
      ]
     },
     "execution_count": 9,
     "metadata": {},
     "output_type": "execute_result"
    }
   ],
   "source": [
    "df_num.head()"
   ]
  },
  {
   "cell_type": "code",
   "execution_count": 10,
   "metadata": {},
   "outputs": [
    {
     "data": {
      "text/plain": [
       "Index(['consEn', 'estimGes', 'anneeCons', 'surfTherm', 'latitude', 'longitude',\n",
       "       'score'],\n",
       "      dtype='object')"
      ]
     },
     "execution_count": 10,
     "metadata": {},
     "output_type": "execute_result"
    }
   ],
   "source": [
    "df_num = df_num.rename(columns={'consommation_energie': 'consEn', 'estimation_ges':'estimGes',\\\n",
    "                                'annee_construction':'anneeCons', 'surface_thermique_lot': 'surfTherm', \\\n",
    "                               'result_score':'score'})\n",
    "df_num.columns"
   ]
  },
  {
   "cell_type": "code",
   "execution_count": 11,
   "metadata": {},
   "outputs": [
    {
     "data": {
      "text/html": [
       "<div>\n",
       "<style scoped>\n",
       "    .dataframe tbody tr th:only-of-type {\n",
       "        vertical-align: middle;\n",
       "    }\n",
       "\n",
       "    .dataframe tbody tr th {\n",
       "        vertical-align: top;\n",
       "    }\n",
       "\n",
       "    .dataframe thead th {\n",
       "        text-align: right;\n",
       "    }\n",
       "</style>\n",
       "<table border=\"1\" class=\"dataframe\">\n",
       "  <thead>\n",
       "    <tr style=\"text-align: right;\">\n",
       "      <th></th>\n",
       "      <th>consEn</th>\n",
       "      <th>estimGes</th>\n",
       "      <th>anneeCons</th>\n",
       "      <th>surfTherm</th>\n",
       "      <th>latitude</th>\n",
       "      <th>longitude</th>\n",
       "      <th>score</th>\n",
       "    </tr>\n",
       "  </thead>\n",
       "  <tbody>\n",
       "    <tr>\n",
       "      <th>count</th>\n",
       "      <td>10000.000000</td>\n",
       "      <td>10000.000000</td>\n",
       "      <td>10000.000000</td>\n",
       "      <td>9985.000000</td>\n",
       "      <td>9899.000000</td>\n",
       "      <td>9899.000000</td>\n",
       "      <td>9899.000000</td>\n",
       "    </tr>\n",
       "    <tr>\n",
       "      <th>mean</th>\n",
       "      <td>230.238654</td>\n",
       "      <td>29.550557</td>\n",
       "      <td>1914.303400</td>\n",
       "      <td>143.428016</td>\n",
       "      <td>46.575164</td>\n",
       "      <td>2.773067</td>\n",
       "      <td>0.757356</td>\n",
       "    </tr>\n",
       "    <tr>\n",
       "      <th>std</th>\n",
       "      <td>167.102059</td>\n",
       "      <td>43.951803</td>\n",
       "      <td>324.611172</td>\n",
       "      <td>543.962606</td>\n",
       "      <td>2.431765</td>\n",
       "      <td>3.009830</td>\n",
       "      <td>0.168209</td>\n",
       "    </tr>\n",
       "    <tr>\n",
       "      <th>min</th>\n",
       "      <td>-25.460000</td>\n",
       "      <td>-24.000000</td>\n",
       "      <td>-1.000000</td>\n",
       "      <td>0.000000</td>\n",
       "      <td>-21.166860</td>\n",
       "      <td>-61.034873</td>\n",
       "      <td>0.180000</td>\n",
       "    </tr>\n",
       "    <tr>\n",
       "      <th>25%</th>\n",
       "      <td>142.665000</td>\n",
       "      <td>8.000000</td>\n",
       "      <td>1947.000000</td>\n",
       "      <td>62.660000</td>\n",
       "      <td>44.727292</td>\n",
       "      <td>0.882372</td>\n",
       "      <td>0.650000</td>\n",
       "    </tr>\n",
       "    <tr>\n",
       "      <th>50%</th>\n",
       "      <td>219.930000</td>\n",
       "      <td>17.610000</td>\n",
       "      <td>1960.000000</td>\n",
       "      <td>87.500000</td>\n",
       "      <td>46.945339</td>\n",
       "      <td>2.523146</td>\n",
       "      <td>0.790000</td>\n",
       "    </tr>\n",
       "    <tr>\n",
       "      <th>75%</th>\n",
       "      <td>307.000000</td>\n",
       "      <td>44.000000</td>\n",
       "      <td>1988.000000</td>\n",
       "      <td>120.000000</td>\n",
       "      <td>48.557367</td>\n",
       "      <td>4.892446</td>\n",
       "      <td>0.930000</td>\n",
       "    </tr>\n",
       "    <tr>\n",
       "      <th>max</th>\n",
       "      <td>6997.000000</td>\n",
       "      <td>2326.330000</td>\n",
       "      <td>7000.000000</td>\n",
       "      <td>25270.000000</td>\n",
       "      <td>51.050349</td>\n",
       "      <td>55.495400</td>\n",
       "      <td>0.970000</td>\n",
       "    </tr>\n",
       "  </tbody>\n",
       "</table>\n",
       "</div>"
      ],
      "text/plain": [
       "             consEn      estimGes     anneeCons     surfTherm     latitude  \\\n",
       "count  10000.000000  10000.000000  10000.000000   9985.000000  9899.000000   \n",
       "mean     230.238654     29.550557   1914.303400    143.428016    46.575164   \n",
       "std      167.102059     43.951803    324.611172    543.962606     2.431765   \n",
       "min      -25.460000    -24.000000     -1.000000      0.000000   -21.166860   \n",
       "25%      142.665000      8.000000   1947.000000     62.660000    44.727292   \n",
       "50%      219.930000     17.610000   1960.000000     87.500000    46.945339   \n",
       "75%      307.000000     44.000000   1988.000000    120.000000    48.557367   \n",
       "max     6997.000000   2326.330000   7000.000000  25270.000000    51.050349   \n",
       "\n",
       "         longitude        score  \n",
       "count  9899.000000  9899.000000  \n",
       "mean      2.773067     0.757356  \n",
       "std       3.009830     0.168209  \n",
       "min     -61.034873     0.180000  \n",
       "25%       0.882372     0.650000  \n",
       "50%       2.523146     0.790000  \n",
       "75%       4.892446     0.930000  \n",
       "max      55.495400     0.970000  "
      ]
     },
     "execution_count": 11,
     "metadata": {},
     "output_type": "execute_result"
    }
   ],
   "source": [
    "df_num.describe()"
   ]
  },
  {
   "cell_type": "code",
   "execution_count": 12,
   "metadata": {},
   "outputs": [],
   "source": [
    "df_num['clasCons'] = df['classe_consommation_energie']\n",
    "df_num['clasGes'] = df['classe_estimation_ges']"
   ]
  },
  {
   "cell_type": "code",
   "execution_count": 13,
   "metadata": {},
   "outputs": [
    {
     "data": {
      "text/plain": [
       "array(['C', 'N', 'E', 'D', 'F', 'A', 'B', 'G', 'I'], dtype=object)"
      ]
     },
     "execution_count": 13,
     "metadata": {},
     "output_type": "execute_result"
    }
   ],
   "source": [
    "df_num['clasCons'].unique()"
   ]
  },
  {
   "cell_type": "code",
   "execution_count": 14,
   "metadata": {},
   "outputs": [
    {
     "data": {
      "text/plain": [
       "D    2761\n",
       "E    2606\n",
       "F    1264\n",
       "N    1165\n",
       "C    1149\n",
       "G     588\n",
       "B     269\n",
       "A     197\n",
       "I       1\n",
       "Name: clasCons, dtype: int64"
      ]
     },
     "execution_count": 14,
     "metadata": {},
     "output_type": "execute_result"
    }
   ],
   "source": [
    "#frequency of each classe\n",
    "df_num['clasCons'].value_counts()"
   ]
  },
  {
   "cell_type": "code",
   "execution_count": 15,
   "metadata": {},
   "outputs": [
    {
     "name": "stdout",
     "output_type": "stream",
     "text": [
      "['D' 'N' 'C' 'A' 'E' 'G' 'B' 'F']\n",
      "8\n"
     ]
    }
   ],
   "source": [
    "classes = df_num['clasGes'].unique()\n",
    "print(classes)\n",
    "print(len(classes))"
   ]
  },
  {
   "cell_type": "code",
   "execution_count": 16,
   "metadata": {},
   "outputs": [
    {
     "data": {
      "text/html": [
       "<div>\n",
       "<style scoped>\n",
       "    .dataframe tbody tr th:only-of-type {\n",
       "        vertical-align: middle;\n",
       "    }\n",
       "\n",
       "    .dataframe tbody tr th {\n",
       "        vertical-align: top;\n",
       "    }\n",
       "\n",
       "    .dataframe thead th {\n",
       "        text-align: right;\n",
       "    }\n",
       "</style>\n",
       "<table border=\"1\" class=\"dataframe\">\n",
       "  <thead>\n",
       "    <tr style=\"text-align: right;\">\n",
       "      <th></th>\n",
       "      <th>count</th>\n",
       "      <th>mean</th>\n",
       "      <th>std</th>\n",
       "      <th>min</th>\n",
       "      <th>25%</th>\n",
       "      <th>50%</th>\n",
       "      <th>75%</th>\n",
       "      <th>max</th>\n",
       "    </tr>\n",
       "    <tr>\n",
       "      <th>clasCons</th>\n",
       "      <th></th>\n",
       "      <th></th>\n",
       "      <th></th>\n",
       "      <th></th>\n",
       "      <th></th>\n",
       "      <th></th>\n",
       "      <th></th>\n",
       "      <th></th>\n",
       "    </tr>\n",
       "  </thead>\n",
       "  <tbody>\n",
       "    <tr>\n",
       "      <th>A</th>\n",
       "      <td>197.0</td>\n",
       "      <td>10.188782</td>\n",
       "      <td>17.175184</td>\n",
       "      <td>-25.46</td>\n",
       "      <td>0.0000</td>\n",
       "      <td>0.00</td>\n",
       "      <td>23.00</td>\n",
       "      <td>50.32</td>\n",
       "    </tr>\n",
       "    <tr>\n",
       "      <th>B</th>\n",
       "      <td>269.0</td>\n",
       "      <td>72.565353</td>\n",
       "      <td>13.486420</td>\n",
       "      <td>38.00</td>\n",
       "      <td>61.0000</td>\n",
       "      <td>74.07</td>\n",
       "      <td>80.63</td>\n",
       "      <td>181.00</td>\n",
       "    </tr>\n",
       "    <tr>\n",
       "      <th>C</th>\n",
       "      <td>1149.0</td>\n",
       "      <td>129.035326</td>\n",
       "      <td>23.512215</td>\n",
       "      <td>91.00</td>\n",
       "      <td>114.0000</td>\n",
       "      <td>129.00</td>\n",
       "      <td>142.00</td>\n",
       "      <td>370.00</td>\n",
       "    </tr>\n",
       "    <tr>\n",
       "      <th>D</th>\n",
       "      <td>2761.0</td>\n",
       "      <td>195.940232</td>\n",
       "      <td>26.053920</td>\n",
       "      <td>151.00</td>\n",
       "      <td>175.9400</td>\n",
       "      <td>197.30</td>\n",
       "      <td>215.62</td>\n",
       "      <td>524.96</td>\n",
       "    </tr>\n",
       "    <tr>\n",
       "      <th>E</th>\n",
       "      <td>2606.0</td>\n",
       "      <td>281.493929</td>\n",
       "      <td>32.775648</td>\n",
       "      <td>231.00</td>\n",
       "      <td>255.1575</td>\n",
       "      <td>280.00</td>\n",
       "      <td>306.00</td>\n",
       "      <td>758.51</td>\n",
       "    </tr>\n",
       "    <tr>\n",
       "      <th>F</th>\n",
       "      <td>1264.0</td>\n",
       "      <td>390.022793</td>\n",
       "      <td>42.702303</td>\n",
       "      <td>331.00</td>\n",
       "      <td>356.0000</td>\n",
       "      <td>386.00</td>\n",
       "      <td>421.00</td>\n",
       "      <td>915.00</td>\n",
       "    </tr>\n",
       "    <tr>\n",
       "      <th>G</th>\n",
       "      <td>588.0</td>\n",
       "      <td>601.035986</td>\n",
       "      <td>316.870185</td>\n",
       "      <td>0.24</td>\n",
       "      <td>491.7625</td>\n",
       "      <td>537.34</td>\n",
       "      <td>627.25</td>\n",
       "      <td>6997.00</td>\n",
       "    </tr>\n",
       "    <tr>\n",
       "      <th>I</th>\n",
       "      <td>1.0</td>\n",
       "      <td>872.290000</td>\n",
       "      <td>NaN</td>\n",
       "      <td>872.29</td>\n",
       "      <td>872.2900</td>\n",
       "      <td>872.29</td>\n",
       "      <td>872.29</td>\n",
       "      <td>872.29</td>\n",
       "    </tr>\n",
       "    <tr>\n",
       "      <th>N</th>\n",
       "      <td>1165.0</td>\n",
       "      <td>9.238850</td>\n",
       "      <td>58.851267</td>\n",
       "      <td>0.00</td>\n",
       "      <td>0.0000</td>\n",
       "      <td>0.00</td>\n",
       "      <td>0.00</td>\n",
       "      <td>1779.46</td>\n",
       "    </tr>\n",
       "  </tbody>\n",
       "</table>\n",
       "</div>"
      ],
      "text/plain": [
       "           count        mean         std     min       25%     50%     75%  \\\n",
       "clasCons                                                                     \n",
       "A          197.0   10.188782   17.175184  -25.46    0.0000    0.00   23.00   \n",
       "B          269.0   72.565353   13.486420   38.00   61.0000   74.07   80.63   \n",
       "C         1149.0  129.035326   23.512215   91.00  114.0000  129.00  142.00   \n",
       "D         2761.0  195.940232   26.053920  151.00  175.9400  197.30  215.62   \n",
       "E         2606.0  281.493929   32.775648  231.00  255.1575  280.00  306.00   \n",
       "F         1264.0  390.022793   42.702303  331.00  356.0000  386.00  421.00   \n",
       "G          588.0  601.035986  316.870185    0.24  491.7625  537.34  627.25   \n",
       "I            1.0  872.290000         NaN  872.29  872.2900  872.29  872.29   \n",
       "N         1165.0    9.238850   58.851267    0.00    0.0000    0.00    0.00   \n",
       "\n",
       "              max  \n",
       "clasCons           \n",
       "A           50.32  \n",
       "B          181.00  \n",
       "C          370.00  \n",
       "D          524.96  \n",
       "E          758.51  \n",
       "F          915.00  \n",
       "G         6997.00  \n",
       "I          872.29  \n",
       "N         1779.46  "
      ]
     },
     "execution_count": 16,
     "metadata": {},
     "output_type": "execute_result"
    }
   ],
   "source": [
    "df_num.groupby('clasCons').consEn.describe()"
   ]
  },
  {
   "cell_type": "markdown",
   "metadata": {},
   "source": [
    "## Histogram"
   ]
  },
  {
   "cell_type": "code",
   "execution_count": 17,
   "metadata": {},
   "outputs": [
    {
     "data": {
      "image/png": "[encoded data removed]",
      "text/plain": [
       "<Figure size 432x288 with 1 Axes>"
      ]
     },
     "metadata": {},
     "output_type": "display_data"
    }
   ],
   "source": [
    "m=plt.hist(df_num[df_num['clasCons'] == 'C'].consEn, bins=30, label='C classe energie consumption', fc = (1,0,0,0.5))\n",
    "b=plt.hist(df_num[df_num['clasCons'] == 'F'].consEn, bins=30, label='F classe energie consumption', fc = (0,1,0,0.5))\n",
    "c=plt.hist(df_num[df_num['clasCons'] == 'D'].consEn, bins=30, label='D classe energie consumption', fc = (0,0,0.5,0.5))\n",
    "_ =plt.legend()"
   ]
  },
  {
   "cell_type": "markdown",
   "metadata": {},
   "source": [
    "## Data outlier"
   ]
  },
  {
   "cell_type": "markdown",
   "metadata": {},
   "source": [
    "### 1 Outlier anneeCons"
   ]
  },
  {
   "cell_type": "code",
   "execution_count": 18,
   "metadata": {
    "scrolled": true
   },
   "outputs": [
    {
     "data": {
      "text/plain": [
       "count    10000.000000\n",
       "mean      1914.303400\n",
       "std        324.611172\n",
       "min         -1.000000\n",
       "25%       1947.000000\n",
       "50%       1960.000000\n",
       "75%       1988.000000\n",
       "max       7000.000000\n",
       "Name: anneeCons, dtype: float64"
      ]
     },
     "execution_count": 18,
     "metadata": {},
     "output_type": "execute_result"
    }
   ],
   "source": [
    "df_num['anneeCons'].describe()"
   ]
  },
  {
   "cell_type": "code",
   "execution_count": 19,
   "metadata": {},
   "outputs": [
    {
     "data": {
      "text/plain": [
       "5"
      ]
     },
     "execution_count": 19,
     "metadata": {},
     "output_type": "execute_result"
    }
   ],
   "source": [
    "anneeCons = np.array(df_num['anneeCons'])\n",
    "val_above_ub = sum(anneeCons > 2020)\n",
    "val_above_ub"
   ]
  },
  {
   "cell_type": "code",
   "execution_count": 20,
   "metadata": {},
   "outputs": [
    {
     "data": {
      "text/plain": [
       "2013"
      ]
     },
     "execution_count": 20,
     "metadata": {},
     "output_type": "execute_result"
    }
   ],
   "source": [
    "#delete all rows with year > 2020\n",
    "#df = df.drop(df[df.score < 50].index)\n",
    "df_num1 = df_num.drop(df_num[df_num['anneeCons'] > 2020].index)\n",
    "df_num1['anneeCons'].max()"
   ]
  },
  {
   "cell_type": "code",
   "execution_count": 21,
   "metadata": {},
   "outputs": [
    {
     "data": {
      "text/plain": [
       "-1"
      ]
     },
     "execution_count": 21,
     "metadata": {},
     "output_type": "execute_result"
    }
   ],
   "source": [
    "df_num['anneeCons'].min()"
   ]
  },
  {
   "cell_type": "code",
   "execution_count": 22,
   "metadata": {},
   "outputs": [
    {
     "data": {
      "text/plain": [
       "(1400.0, 2020.0)"
      ]
     },
     "execution_count": 22,
     "metadata": {},
     "output_type": "execute_result"
    },
    {
     "data": {
      "image/png": "[encoded data removed]",
      "text/plain": [
       "<Figure size 432x288 with 1 Axes>"
      ]
     },
     "metadata": {},
     "output_type": "display_data"
    }
   ],
   "source": [
    "y = plt.hist(anneeCons, bins=2000, fc = (1,0,0,0.5))\n",
    "plt.xlim([1400, 2020])\n",
    "#plt.ylim([0, 500])"
   ]
  },
  {
   "cell_type": "code",
   "execution_count": 23,
   "metadata": {},
   "outputs": [
    {
     "data": {
      "text/plain": [
       "1945"
      ]
     },
     "execution_count": 23,
     "metadata": {},
     "output_type": "execute_result"
    }
   ],
   "source": [
    "#we take data from after the world war\n",
    "df_num1 = df_num1.drop(df_num[df_num['anneeCons'] < 1945].index)\n",
    "df_num1['anneeCons'].min()"
   ]
  },
  {
   "cell_type": "code",
   "execution_count": 24,
   "metadata": {},
   "outputs": [
    {
     "data": {
      "text/plain": [
       "1    3894\n",
       "2    4012\n",
       "3    3896\n",
       "Name: anneeCons, dtype: int64"
      ]
     },
     "execution_count": 24,
     "metadata": {},
     "output_type": "execute_result"
    }
   ],
   "source": [
    "transform = lambda x : x*2\n",
    "annee_toy = df_num1['anneeCons'].apply(transform)\n",
    "annee_toy.head(3)"
   ]
  },
  {
   "cell_type": "code",
   "execution_count": 25,
   "metadata": {},
   "outputs": [
    {
     "data": {
      "text/plain": [
       "1    3894\n",
       "2    4012\n",
       "3    3896\n",
       "Name: anneeCons, dtype: int64"
      ]
     },
     "execution_count": 25,
     "metadata": {},
     "output_type": "execute_result"
    }
   ],
   "source": [
    "# or\n",
    "df_num1['anneeCons'].apply(lambda x : x*2).head(3)"
   ]
  },
  {
   "cell_type": "markdown",
   "metadata": {},
   "source": [
    "### 2 Outliers Consommation Energie"
   ]
  },
  {
   "cell_type": "code",
   "execution_count": 26,
   "metadata": {},
   "outputs": [
    {
     "data": {
      "text/plain": [
       "<matplotlib.collections.PathCollection at 0x19cda1eadc0>"
      ]
     },
     "execution_count": 26,
     "metadata": {},
     "output_type": "execute_result"
    },
    {
     "data": {
      "image/png": "[encoded data removed]",
      "text/plain": [
       "<Figure size 432x288 with 1 Axes>"
      ]
     },
     "metadata": {},
     "output_type": "display_data"
    }
   ],
   "source": [
    "consEn = df_num1['consEn']\n",
    "plt.scatter(df_num1['anneeCons'], consEn)"
   ]
  },
  {
   "cell_type": "code",
   "execution_count": 27,
   "metadata": {},
   "outputs": [
    {
     "data": {
      "text/plain": [
       "<function matplotlib.pyplot.hist(x, bins=None, range=None, density=False, weights=None, cumulative=False, bottom=None, histtype='bar', align='mid', orientation='vertical', rwidth=None, log=False, color=None, label=None, stacked=False, *, data=None, **kwargs)>"
      ]
     },
     "execution_count": 27,
     "metadata": {},
     "output_type": "execute_result"
    }
   ],
   "source": [
    "plt.hist"
   ]
  },
  {
   "cell_type": "code",
   "execution_count": 32,
   "metadata": {},
   "outputs": [
    {
     "data": {
      "text/plain": [
       "count    9013.000000\n",
       "mean      235.393766\n",
       "std       150.785537\n",
       "min       -25.460000\n",
       "25%       149.000000\n",
       "50%       223.000000\n",
       "75%       311.000000\n",
       "max      2478.260000\n",
       "Name: consEn, dtype: float64"
      ]
     },
     "execution_count": 32,
     "metadata": {},
     "output_type": "execute_result"
    }
   ],
   "source": [
    "consEn = df_num1['consEn']\n",
    "desc_C = consEn.describe()\n",
    "desc_C"
   ]
  },
  {
   "cell_type": "code",
   "execution_count": 29,
   "metadata": {},
   "outputs": [
    {
     "data": {
      "text/plain": [
       "(0.0, 0.005)"
      ]
     },
     "execution_count": 29,
     "metadata": {},
     "output_type": "execute_result"
    },
    {
     "data": {
      "image/png": "[encoded data removed]",
      "text/plain": [
       "<Figure size 432x288 with 1 Axes>"
      ]
     },
     "metadata": {},
     "output_type": "display_data"
    }
   ],
   "source": [
    "#histogram energy consumption and pdf\n",
    "from scipy.stats import norm\n",
    "\n",
    "plt.figure\n",
    "_ = plt.hist(df_num1['consEn'], bins=200, density = True, fc = (1,0,0,0.5))\n",
    "_ = plt.xlim(0, 1500)\n",
    "x = np.linspace(0, 1000, 100)\n",
    "mu = 235.40\n",
    "std = 150.79\n",
    "_ = plt.plot(x, norm.pdf(x, mu, std))\n",
    "plt.xlim(0, 800)\n",
    "plt.ylim(0, 0.005)"
   ]
  },
  {
   "cell_type": "code",
   "execution_count": 30,
   "metadata": {},
   "outputs": [],
   "source": [
    "#Conclusion for now: distribution is random enough\n",
    "#delete rows consEn with mu - 3 * std < consEn < mu + 3 * std"
   ]
  },
  {
   "cell_type": "code",
   "execution_count": null,
   "metadata": {},
   "outputs": [],
   "source": []
  },
  {
   "cell_type": "code",
   "execution_count": 34,
   "metadata": {},
   "outputs": [],
   "source": [
    "Q1 = desc_C[4]\n",
    "Q3 = desc_C[6]\n",
    "IQR = Q3 - Q1\n",
    "lowerb = Q1 - 1.5 * IQR\n",
    "upperb = Q3 + 1.5 * IQR"
   ]
  },
  {
   "cell_type": "code",
   "execution_count": 37,
   "metadata": {},
   "outputs": [
    {
     "name": "stdout",
     "output_type": "stream",
     "text": [
      "Anything outside this range is an outlier: ( -94.0 , 554.0 )\n"
     ]
    }
   ],
   "source": [
    "print(\"Anything outside this range is an outlier: (\", lowerb ,\",\", upperb,\")\")"
   ]
  },
  {
   "cell_type": "code",
   "execution_count": 38,
   "metadata": {},
   "outputs": [
    {
     "data": {
      "text/plain": [
       "Index(['consEn', 'estimGes', 'anneeCons', 'surfTherm', 'latitude', 'longitude',\n",
       "       'score', 'clasCons', 'clasGes'],\n",
       "      dtype='object')"
      ]
     },
     "execution_count": 38,
     "metadata": {},
     "output_type": "execute_result"
    }
   ],
   "source": [
    "df_num.columns"
   ]
  },
  {
   "cell_type": "markdown",
   "metadata": {},
   "source": [
    "## Label or get dummy\n",
    "To label or to get dummies. This depends on the cardinality and ordinality of the data"
   ]
  },
  {
   "cell_type": "code",
   "execution_count": null,
   "metadata": {},
   "outputs": [],
   "source": []
  },
  {
   "cell_type": "code",
   "execution_count": null,
   "metadata": {},
   "outputs": [],
   "source": []
  },
  {
   "cell_type": "markdown",
   "metadata": {},
   "source": [
    "## Relationship between variables"
   ]
  },
  {
   "cell_type": "code",
   "execution_count": 39,
   "metadata": {},
   "outputs": [
    {
     "data": {
      "text/plain": [
       "<Figure size 1080x720 with 0 Axes>"
      ]
     },
     "metadata": {},
     "output_type": "display_data"
    },
    {
     "data": {
      "image/png": "[encoded data removed]",
      "text/plain": [
       "<Figure size 432x432 with 3 Axes>"
      ]
     },
     "metadata": {},
     "output_type": "display_data"
    }
   ],
   "source": [
    "plt.figure(figsize = (15, 10))\n",
    "_ = sns.jointplot(df_num.latitude, df_num.consEn, kind='regg')\n",
    "plt.show()"
   ]
  },
  {
   "cell_type": "code",
   "execution_count": 40,
   "metadata": {},
   "outputs": [
    {
     "data": {
      "image/png": "[encoded data removed]",
      "text/plain": [
       "<Figure size 1260x1260 with 49 Axes>"
      ]
     },
     "metadata": {},
     "output_type": "display_data"
    }
   ],
   "source": [
    "df_num1=df_num.drop(['clasCons', 'clasGes'], axis = 1)\n",
    "g = sns.PairGrid(df_num1)\n",
    "g = g.map(plt.scatter)"
   ]
  },
  {
   "cell_type": "markdown",
   "metadata": {},
   "source": [
    "## Exploratory Data Aanalysis"
   ]
  },
  {
   "cell_type": "code",
   "execution_count": 41,
   "metadata": {},
   "outputs": [],
   "source": [
    "def get_top_10(group):\n",
    "    return group.sort_values(by='consEn', ascending = False)[:10]"
   ]
  },
  {
   "cell_type": "code",
   "execution_count": 42,
   "metadata": {},
   "outputs": [
    {
     "ename": "KeyError",
     "evalue": "'clasCons'",
     "output_type": "error",
     "traceback": [
      "\u001b[1;31m---------------------------------------------------------------------------\u001b[0m",
      "\u001b[1;31mKeyError\u001b[0m                                  Traceback (most recent call last)",
      "\u001b[1;32m<ipython-input-42-94cb0a70e3cf>\u001b[0m in \u001b[0;36m<module>\u001b[1;34m\u001b[0m\n\u001b[1;32m----> 1\u001b[1;33m \u001b[0mdf_num1\u001b[0m\u001b[1;33m.\u001b[0m\u001b[0mgroupby\u001b[0m\u001b[1;33m(\u001b[0m\u001b[1;33m[\u001b[0m\u001b[1;34m'clasCons'\u001b[0m\u001b[1;33m]\u001b[0m\u001b[1;33m)\u001b[0m\u001b[1;33m.\u001b[0m\u001b[0mapply\u001b[0m\u001b[1;33m(\u001b[0m\u001b[0mget_top_10\u001b[0m\u001b[1;33m)\u001b[0m\u001b[1;33m\u001b[0m\u001b[1;33m\u001b[0m\u001b[0m\n\u001b[0m",
      "\u001b[1;32m~\\anaconda3\\envs\\Work_base\\lib\\site-packages\\pandas\\core\\frame.py\u001b[0m in \u001b[0;36mgroupby\u001b[1;34m(self, by, axis, level, as_index, sort, group_keys, squeeze, observed)\u001b[0m\n\u001b[0;32m   5799\u001b[0m         \u001b[0maxis\u001b[0m \u001b[1;33m=\u001b[0m \u001b[0mself\u001b[0m\u001b[1;33m.\u001b[0m\u001b[0m_get_axis_number\u001b[0m\u001b[1;33m(\u001b[0m\u001b[0maxis\u001b[0m\u001b[1;33m)\u001b[0m\u001b[1;33m\u001b[0m\u001b[1;33m\u001b[0m\u001b[0m\n\u001b[0;32m   5800\u001b[0m \u001b[1;33m\u001b[0m\u001b[0m\n\u001b[1;32m-> 5801\u001b[1;33m         return groupby_generic.DataFrameGroupBy(\n\u001b[0m\u001b[0;32m   5802\u001b[0m             \u001b[0mobj\u001b[0m\u001b[1;33m=\u001b[0m\u001b[0mself\u001b[0m\u001b[1;33m,\u001b[0m\u001b[1;33m\u001b[0m\u001b[1;33m\u001b[0m\u001b[0m\n\u001b[0;32m   5803\u001b[0m             \u001b[0mkeys\u001b[0m\u001b[1;33m=\u001b[0m\u001b[0mby\u001b[0m\u001b[1;33m,\u001b[0m\u001b[1;33m\u001b[0m\u001b[1;33m\u001b[0m\u001b[0m\n",
      "\u001b[1;32m~\\anaconda3\\envs\\Work_base\\lib\\site-packages\\pandas\\core\\groupby\\groupby.py\u001b[0m in \u001b[0;36m__init__\u001b[1;34m(self, obj, keys, axis, level, grouper, exclusions, selection, as_index, sort, group_keys, squeeze, observed, mutated)\u001b[0m\n\u001b[0;32m    401\u001b[0m             \u001b[1;32mfrom\u001b[0m \u001b[0mpandas\u001b[0m\u001b[1;33m.\u001b[0m\u001b[0mcore\u001b[0m\u001b[1;33m.\u001b[0m\u001b[0mgroupby\u001b[0m\u001b[1;33m.\u001b[0m\u001b[0mgrouper\u001b[0m \u001b[1;32mimport\u001b[0m \u001b[0mget_grouper\u001b[0m\u001b[1;33m\u001b[0m\u001b[1;33m\u001b[0m\u001b[0m\n\u001b[0;32m    402\u001b[0m \u001b[1;33m\u001b[0m\u001b[0m\n\u001b[1;32m--> 403\u001b[1;33m             grouper, exclusions, obj = get_grouper(\n\u001b[0m\u001b[0;32m    404\u001b[0m                 \u001b[0mobj\u001b[0m\u001b[1;33m,\u001b[0m\u001b[1;33m\u001b[0m\u001b[1;33m\u001b[0m\u001b[0m\n\u001b[0;32m    405\u001b[0m                 \u001b[0mkeys\u001b[0m\u001b[1;33m,\u001b[0m\u001b[1;33m\u001b[0m\u001b[1;33m\u001b[0m\u001b[0m\n",
      "\u001b[1;32m~\\anaconda3\\envs\\Work_base\\lib\\site-packages\\pandas\\core\\groupby\\grouper.py\u001b[0m in \u001b[0;36mget_grouper\u001b[1;34m(obj, key, axis, level, sort, observed, mutated, validate)\u001b[0m\n\u001b[0;32m    598\u001b[0m                 \u001b[0min_axis\u001b[0m\u001b[1;33m,\u001b[0m \u001b[0mname\u001b[0m\u001b[1;33m,\u001b[0m \u001b[0mlevel\u001b[0m\u001b[1;33m,\u001b[0m \u001b[0mgpr\u001b[0m \u001b[1;33m=\u001b[0m \u001b[1;32mFalse\u001b[0m\u001b[1;33m,\u001b[0m \u001b[1;32mNone\u001b[0m\u001b[1;33m,\u001b[0m \u001b[0mgpr\u001b[0m\u001b[1;33m,\u001b[0m \u001b[1;32mNone\u001b[0m\u001b[1;33m\u001b[0m\u001b[1;33m\u001b[0m\u001b[0m\n\u001b[0;32m    599\u001b[0m             \u001b[1;32melse\u001b[0m\u001b[1;33m:\u001b[0m\u001b[1;33m\u001b[0m\u001b[1;33m\u001b[0m\u001b[0m\n\u001b[1;32m--> 600\u001b[1;33m                 \u001b[1;32mraise\u001b[0m \u001b[0mKeyError\u001b[0m\u001b[1;33m(\u001b[0m\u001b[0mgpr\u001b[0m\u001b[1;33m)\u001b[0m\u001b[1;33m\u001b[0m\u001b[1;33m\u001b[0m\u001b[0m\n\u001b[0m\u001b[0;32m    601\u001b[0m         \u001b[1;32melif\u001b[0m \u001b[0misinstance\u001b[0m\u001b[1;33m(\u001b[0m\u001b[0mgpr\u001b[0m\u001b[1;33m,\u001b[0m \u001b[0mGrouper\u001b[0m\u001b[1;33m)\u001b[0m \u001b[1;32mand\u001b[0m \u001b[0mgpr\u001b[0m\u001b[1;33m.\u001b[0m\u001b[0mkey\u001b[0m \u001b[1;32mis\u001b[0m \u001b[1;32mnot\u001b[0m \u001b[1;32mNone\u001b[0m\u001b[1;33m:\u001b[0m\u001b[1;33m\u001b[0m\u001b[1;33m\u001b[0m\u001b[0m\n\u001b[0;32m    602\u001b[0m             \u001b[1;31m# Add key to exclusions\u001b[0m\u001b[1;33m\u001b[0m\u001b[1;33m\u001b[0m\u001b[1;33m\u001b[0m\u001b[0m\n",
      "\u001b[1;31mKeyError\u001b[0m: 'clasCons'"
     ]
    }
   ],
   "source": [
    "df_num1.groupby(['clasCons']).apply(get_top_10)"
   ]
  },
  {
   "cell_type": "code",
   "execution_count": null,
   "metadata": {},
   "outputs": [],
   "source": [
    "len(df_num1.groupby(['clasCons']))"
   ]
  },
  {
   "cell_type": "code",
   "execution_count": null,
   "metadata": {},
   "outputs": [],
   "source": [
    "mean_cons = df_num1.groupby(['clasCons']).mean()\n",
    "mean_cons"
   ]
  }
 ],
 "metadata": {
  "kernelspec": {
   "display_name": "Python 3",
   "language": "python",
   "name": "python3"
  },
  "language_info": {
   "codemirror_mode": {
    "name": "ipython",
    "version": 3
   },
   "file_extension": ".py",
   "mimetype": "text/x-python",
   "name": "python",
   "nbconvert_exporter": "python",
   "pygments_lexer": "ipython3",
   "version": "3.8.3"
  }
 },
 "nbformat": 4,
 "nbformat_minor": 4
}
